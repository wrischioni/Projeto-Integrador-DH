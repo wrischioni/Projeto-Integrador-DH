{
 "cells": [
  {
   "cell_type": "code",
   "execution_count": null,
   "metadata": {},
   "outputs": [],
   "source": [
    "# tool kit\n",
    "import pandas as pd\n",
    "\n",
    "# loading scraper classes for web news data extractions\n",
    "%run './scraper_advfn.py'  # current total pages: 58 - CURRENT UNAVAILABLE\n",
    "%run './scraper_g1.py'  # current total pages: 2000\n",
    "%run './scraper_infomoney.py'  # current total pages: 15 (per company)\n",
    "%run './scraper_investing.py'  # current total pages: 745, 954 (economy and politic news)\n",
    "%run './scraper_valor.py'  # current total pages: 2496\n"
   ]
  },
  {
   "cell_type": "code",
   "execution_count": null,
   "metadata": {},
   "outputs": [],
   "source": [
    "def news_export(file_name, data_set, path='../../data/raw/'):\n",
    "    '''\n",
    "    function to extract data_raw file as csv with extraction_time\n",
    "    and file name as id.\n",
    "    export to \"raw\" directory as default\n",
    "    '''\n",
    "    df = pd.DataFrame(data_set)\n",
    "    df.to_csv(f'{path}{file_name}_news_{dt.now()}.csv')\n"
   ]
  },
  {
   "cell_type": "markdown",
   "metadata": {},
   "source": [
    "<br></br>\n",
    "#### exporting data from \"Valor Econômico\" website"
   ]
  },
  {
   "cell_type": "code",
   "execution_count": null,
   "metadata": {},
   "outputs": [],
   "source": [
    "news_catcher_valor = VALOR(0, 500)\n",
    "news_catcher_valor.__dict__\n"
   ]
  },
  {
   "cell_type": "code",
   "execution_count": null,
   "metadata": {},
   "outputs": [],
   "source": [
    "news_valor = news_catcher_valor.full_extraction()\n",
    "news_export(file_name='valor_1', data_set=news_valor)\n"
   ]
  },
  {
   "cell_type": "markdown",
   "metadata": {},
   "source": [
    "<br></br>\n",
    "#### exporting data from \"Infomoney\" website"
   ]
  },
  {
   "cell_type": "code",
   "execution_count": null,
   "metadata": {},
   "outputs": [],
   "source": [
    "news_catcher = INFOM(15)\n",
    "news_catcher.__dict__\n"
   ]
  },
  {
   "cell_type": "code",
   "execution_count": null,
   "metadata": {},
   "outputs": [],
   "source": [
    "for company in news_catcher.company_list:\n",
    "    print(f'~ content from: {company}:\\n')\n",
    "    news = news_catcher.full_extraction(company_name=company)\n",
    "    news_export(file_name=company, data_set=news)\n"
   ]
  },
  {
   "cell_type": "markdown",
   "metadata": {},
   "source": [
    "<br></br>\n",
    "#### exporting data from \"Investing\" website (economy and politics news)"
   ]
  },
  {
   "cell_type": "code",
   "execution_count": null,
   "metadata": {},
   "outputs": [],
   "source": [
    "# getting news from the economy section:\n",
    "news_catcher_invg = INVESTING(745)\n",
    "news_catcher_invg.__dict__\n"
   ]
  },
  {
   "cell_type": "code",
   "execution_count": null,
   "metadata": {},
   "outputs": [],
   "source": [
    "news_invg = news_catcher_invg.full_extraction(news_tag='economy')\n",
    "news_export(file_name='investing', data_set=news_invg)\n"
   ]
  },
  {
   "cell_type": "code",
   "execution_count": null,
   "metadata": {},
   "outputs": [],
   "source": [
    "# getting news from the politics section: \n",
    "news_catcher_invg = INVESTING(954)\n",
    "news_catcher_invg.__dict__\n"
   ]
  },
  {
   "cell_type": "code",
   "execution_count": null,
   "metadata": {},
   "outputs": [],
   "source": [
    "news_invg2 = news_catcher_invg.full_extraction(news_tag='politics')\n",
    "news_export(file_name='investing_politics', data_set=news_invg2)\n"
   ]
  },
  {
   "cell_type": "markdown",
   "metadata": {},
   "source": [
    "<br></br>\n",
    "#### exporting data from \"G1\" website (economy and politics news)"
   ]
  },
  {
   "cell_type": "code",
   "execution_count": null,
   "metadata": {},
   "outputs": [],
   "source": [
    "news_catcher_g1 = G1(2000)\n",
    "news_catcher_g1.__dict__\n"
   ]
  },
  {
   "cell_type": "code",
   "execution_count": null,
   "metadata": {},
   "outputs": [],
   "source": [
    "news_g1 = news_catcher_g1.full_extraction()\n",
    "news_export(file_name='g1', data_set=news_g1)\n"
   ]
  },
  {
   "cell_type": "markdown",
   "metadata": {},
   "source": [
    "<br></br>\n",
    "#### exporting data from \"ADVFN\" website (economy and politics news)"
   ]
  },
  {
   "cell_type": "code",
   "execution_count": null,
   "metadata": {},
   "outputs": [],
   "source": [
    "news_catcher_advfn = ADVFN(1, 20)\n",
    "news_catcher_advfn.__dict__\n"
   ]
  },
  {
   "cell_type": "code",
   "execution_count": null,
   "metadata": {},
   "outputs": [],
   "source": [
    "news_advfn = news_catcher_advfn.full_extraction()\n",
    "news_export(file_name='advfn_1', data_set=news_advfn)\n"
   ]
  },
  {
   "cell_type": "code",
   "execution_count": null,
   "metadata": {},
   "outputs": [],
   "source": []
  }
 ],
 "metadata": {
  "kernelspec": {
   "display_name": "Python 3",
   "language": "python",
   "name": "python3"
  },
  "language_info": {
   "codemirror_mode": {
    "name": "ipython",
    "version": 3
   },
   "file_extension": ".py",
   "mimetype": "text/x-python",
   "name": "python",
   "nbconvert_exporter": "python",
   "pygments_lexer": "ipython3",
   "version": "3.7.3"
  }
 },
 "nbformat": 4,
 "nbformat_minor": 2
}
