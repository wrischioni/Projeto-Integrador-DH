{
 "cells": [
  {
   "cell_type": "code",
   "execution_count": 4,
   "metadata": {},
   "outputs": [],
   "source": [
    "# tool kit\n",
    "import pandas as pd\n",
    "\n",
    "# loading scraper classes for web news data extractions\n",
    "%run './scraper_advfn.py'  # current total pages: 319 - CURRENT UNAVAILABLE\n",
    "%run './scraper_g1.py'  # current total pages: 2000\n",
    "%run './scraper_infomoney.py'  # current total pages: 15 (per company)\n",
    "%run './scraper_investing.py'  # current total pages: 744, 953 (economy and politic news)\n",
    "%run './scraper_valor.py'  # current total pages: 2490\n"
   ]
  },
  {
   "cell_type": "markdown",
   "metadata": {},
   "source": [
    "##### exporting data from Infomoney website"
   ]
  },
  {
   "cell_type": "code",
   "execution_count": 25,
   "metadata": {},
   "outputs": [],
   "source": [
    "def news_export(file_name, data_set, path='./raw/'):\n",
    "    '''\n",
    "    function to extract data_raw file as csv with extraction_time\n",
    "    and file name as id.\n",
    "    export to \"raw\" directory as default\n",
    "    '''\n",
    "    df = pd.DataFrame(data_set)\n",
    "    df.to_csv(f'{path}{file_name}_news_{dt.now()}.csv')\n"
   ]
  },
  {
   "cell_type": "code",
   "execution_count": 27,
   "metadata": {},
   "outputs": [
    {
     "data": {
      "text/plain": [
       "{'url_home': 'https://www.infomoney.com.br',\n",
       " 'company_list': ['santanderbr', 'itauunibanco', 'bradesco'],\n",
       " 'last_page': 15,\n",
       " 'session': <requests_html.HTMLSession at 0x7fd3c1d387b8>}"
      ]
     },
     "execution_count": 27,
     "metadata": {},
     "output_type": "execute_result"
    }
   ],
   "source": [
    "news_catcher = INFOM(15)\n",
    "news_catcher.__dict__"
   ]
  },
  {
   "cell_type": "code",
   "execution_count": 29,
   "metadata": {},
   "outputs": [
    {
     "name": "stdout",
     "output_type": "stream",
     "text": [
      "~ content from: santanderbr:\n",
      "\n",
      "process start at: 2019-05-16 00:49:25.719113\n",
      "------------------\n",
      "1th-iteration: get-links completed at: 0:49 / loading content: ||||||| / get-news completed at: 0:49\n",
      "2th-iteration: get-links completed at: 0:49 / loading content: ||||||| / get-news completed at: 0:50\n",
      "3th-iteration: get-links completed at: 0:50 / loading content: ||||||| / get-news completed at: 0:50\n",
      "4th-iteration: get-links completed at: 0:50 / loading content: ||||||| / get-news completed at: 0:50\n",
      "5th-iteration: get-links completed at: 0:50 / loading content: ||||||| / get-news completed at: 0:51\n",
      "6th-iteration: get-links completed at: 0:51 / loading content: ||||||| / get-news completed at: 0:51\n",
      "7th-iteration: get-links completed at: 0:51 / loading content: ||||||| / get-news completed at: 0:51\n",
      "8th-iteration: get-links completed at: 0:51 / loading content: ||||||| / get-news completed at: 0:52\n",
      "9th-iteration: get-links completed at: 0:52 / loading content: ||||||| / get-news completed at: 0:52\n",
      "10th-iteration: get-links completed at: 0:52 / loading content: ||||||| / get-news completed at: 0:52\n",
      "11th-iteration: get-links completed at: 0:52 / loading content: ||||||| / get-news completed at: 0:52\n",
      "12th-iteration: get-links completed at: 0:52 / loading content: ||||||| / get-news completed at: 0:53\n",
      "13th-iteration: get-links completed at: 0:53 / loading content: ||||||| / get-news completed at: 0:53\n",
      "14th-iteration: get-links completed at: 0:53 / loading content: ||||||| / get-news completed at: 0:53\n",
      "15th-iteration: get-links completed at: 0:53 / loading content: || / get-news completed at: 0:53\n",
      "------------------\n",
      "full-job at: 2019-05-16 00:53:41.840070\n",
      "~ content from: itauunibanco:\n",
      "\n",
      "process start at: 2019-05-16 00:53:41.878239\n",
      "------------------\n",
      "1th-iteration: get-links completed at: 0:53 / loading content: ||||||| / get-news completed at: 0:54\n",
      "2th-iteration: get-links completed at: 0:54 / loading content: ||||||| / get-news completed at: 0:54\n",
      "3th-iteration: get-links completed at: 0:54 / loading content: ||||||| / get-news completed at: 0:54\n",
      "4th-iteration: get-links completed at: 0:54 / loading content: ||||||| / get-news completed at: 0:54\n",
      "5th-iteration: get-links completed at: 0:54 / loading content: ||||||| / get-news completed at: 0:55\n",
      "6th-iteration: get-links completed at: 0:55 / loading content: ||||||| / get-news completed at: 0:55\n",
      "7th-iteration: get-links completed at: 0:55 / loading content: ||||||| / get-news completed at: 0:55\n",
      "8th-iteration: get-links completed at: 0:55 / loading content: ||||||| / get-news completed at: 0:56\n",
      "9th-iteration: get-links completed at: 0:56 / loading content: ||||||| / get-news completed at: 0:56\n",
      "10th-iteration: get-links completed at: 0:56 / loading content: ||||||| / get-news completed at: 0:56\n",
      "11th-iteration: get-links completed at: 0:57 / loading content: ||||||| / get-news completed at: 0:57\n",
      "12th-iteration: get-links completed at: 0:57 / loading content: ||||||| / get-news completed at: 0:57\n",
      "13th-iteration: get-links completed at: 0:57 / loading content: ||||||| / get-news completed at: 0:57\n",
      "14th-iteration: get-links completed at: 0:57 / loading content: ||||||| / get-news completed at: 0:58\n",
      "15th-iteration: get-links completed at: 0:58 / loading content: || / get-news completed at: 0:58\n",
      "------------------\n",
      "full-job at: 2019-05-16 00:58:11.721870\n",
      "~ content from: bradesco:\n",
      "\n",
      "process start at: 2019-05-16 00:58:11.758788\n",
      "------------------\n",
      "1th-iteration: get-links completed at: 0:58 / loading content: ||||||| / get-news completed at: 0:58\n",
      "2th-iteration: get-links completed at: 0:58 / loading content: ||||||| / get-news completed at: 0:58\n",
      "3th-iteration: get-links completed at: 0:58 / loading content: ||||||| / get-news completed at: 0:59\n",
      "4th-iteration: get-links completed at: 0:59 / loading content: ||||||| / get-news completed at: 0:59\n",
      "5th-iteration: get-links completed at: 0:59 / loading content: ||||||| / get-news completed at: 0:59\n",
      "6th-iteration: get-links completed at: 0:59 / loading content: ||||||| / get-news completed at: 1:0\n",
      "7th-iteration: get-links completed at: 1:0 / loading content: ||||||| / get-news completed at: 1:0\n",
      "8th-iteration: get-links completed at: 1:0 / loading content: ||||||| / get-news completed at: 1:0\n",
      "9th-iteration: get-links completed at: 1:0 / loading content: ||||||| / get-news completed at: 1:1\n",
      "10th-iteration: get-links completed at: 1:1 / loading content: ||||||| / get-news completed at: 1:1\n",
      "11th-iteration: get-links completed at: 1:1 / loading content: ||||||| / get-news completed at: 1:1\n",
      "12th-iteration: get-links completed at: 1:1 / loading content: ||||||| / get-news completed at: 1:1\n",
      "13th-iteration: get-links completed at: 1:1 / loading content: ||||||| / get-news completed at: 1:2\n",
      "14th-iteration: get-links completed at: 1:2 / loading content: ||||||| / get-news completed at: 1:2\n",
      "15th-iteration: get-links completed at: 1:2 / loading content: || / get-news completed at: 1:2\n",
      "------------------\n",
      "full-job at: 2019-05-16 01:02:24.150302\n"
     ]
    }
   ],
   "source": [
    "for company in news_catcher.company_list:\n",
    "    print(f'~ content from: {company}:\\n')\n",
    "    news = news_catcher.full_extraction(company_name=company)\n",
    "    news_export(file_name=company, data_set=news)\n"
   ]
  },
  {
   "cell_type": "markdown",
   "metadata": {},
   "source": [
    "##### exporting data from G1 website"
   ]
  },
  {
   "cell_type": "code",
   "execution_count": 33,
   "metadata": {},
   "outputs": [
    {
     "data": {
      "text/plain": [
       "{'url_page': 'https://g1.globo.com/economia/index/feed/pagina-',\n",
       " 'url_complement': '.ghtml',\n",
       " 'log': [],\n",
       " 'last_page': 2000,\n",
       " 'session': <requests_html.HTMLSession at 0x7fd3c15d0eb8>}"
      ]
     },
     "execution_count": 33,
     "metadata": {},
     "output_type": "execute_result"
    }
   ],
   "source": [
    "news_catcher_g1 = G1(2000)\n",
    "news_catcher_g1.__dict__"
   ]
  },
  {
   "cell_type": "code",
   "execution_count": null,
   "metadata": {},
   "outputs": [
    {
     "name": "stdout",
     "output_type": "stream",
     "text": [
      "process start at: 2019-05-16 01:24:53.801430\n",
      "------------------\n",
      "1th-iteration: get-links completed at: 1:24 / loading content: |||||||||| / get-news completed at: 1:25\n",
      "2th-iteration: get-links completed at: 1:25 / loading content: |||||||||| / get-news completed at: 1:25\n",
      "3th-iteration: get-links completed at: 1:25 / loading content: |||||||||| / get-news completed at: 1:25\n",
      "4th-iteration: get-links completed at: 1:25 / loading content: |||||||||| / get-news completed at: 1:25\n",
      "5th-iteration: get-links completed at: 1:25 / loading content: |||||||||| / get-news completed at: 1:25\n",
      "6th-iteration: get-links completed at: 1:25 / loading content: |||||||||| / get-news completed at: 1:26\n",
      "7th-iteration: get-links completed at: 1:26 / loading content: |||||||||| / get-news completed at: 1:26\n",
      "8th-iteration: get-links completed at: 1:26 / loading content: |||||||||| / get-news completed at: 1:26\n",
      "9th-iteration: get-links completed at: 1:26 / loading content: |||||||||| / get-news completed at: 1:26\n",
      "10th-iteration: get-links completed at: 1:26 / loading content: |||||||||| / get-news completed at: 1:27\n",
      "11th-iteration: get-links completed at: 1:27 / loading content: |||||||||| / get-news completed at: 1:27\n",
      "12th-iteration: get-links completed at: 1:27 / loading content: |||||||||| / get-news completed at: 1:27\n",
      "13th-iteration: get-links completed at: 1:27 / loading content: |||||||||| / get-news completed at: 1:27\n",
      "14th-iteration: get-links completed at: 1:27 / loading content: |||||||||| / get-news completed at: 1:27\n",
      "15th-iteration: get-links completed at: 1:27 / loading content: |||||||||| / get-news completed at: 1:29\n",
      "16th-iteration: get-links completed at: 1:29 / loading content: |||||||||| / get-news completed at: 1:29\n",
      "17th-iteration: get-links completed at: 1:29 / loading content: |||||||||| / get-news completed at: 1:29\n",
      "18th-iteration: get-links completed at: 1:29 / loading content: |||||||||| / get-news completed at: 1:29\n",
      "19th-iteration: get-links completed at: 1:29 / loading content: |||||||||| / get-news completed at: 1:29\n",
      "20th-iteration: get-links completed at: 1:29 / loading content: |||||||||| / get-news completed at: 1:30\n",
      "21th-iteration: get-links completed at: 1:30 / loading content: |||||||||| / get-news completed at: 1:30\n",
      "22th-iteration: get-links completed at: 1:30 / loading content: |||||||||| / get-news completed at: 1:30\n",
      "23th-iteration: get-links completed at: 1:30 / loading content: |||||||||| / get-news completed at: 1:30\n",
      "24th-iteration: get-links completed at: 1:30 / loading content: |||||||||| / get-news completed at: 1:30\n",
      "25th-iteration: get-links completed at: 1:30 / loading content: |||||||||| / get-news completed at: 1:31\n",
      "26th-iteration: get-links completed at: 1:31 / loading content: |||||||||| / get-news completed at: 1:31\n",
      "27th-iteration: get-links completed at: 1:31 / loading content: |||||||||| / get-news completed at: 1:31\n",
      "28th-iteration: get-links completed at: 1:31 / loading content: |||||||||| / get-news completed at: 1:31\n",
      "29th-iteration: get-links completed at: 1:31 / loading content: |||||||||| / get-news completed at: 1:39\n",
      "30th-iteration: get-links completed at: 1:39 / loading content: |||||||||| / get-news completed at: 1:40\n",
      "31th-iteration: get-links completed at: 1:40 / loading content: |||||||||| / get-news completed at: 1:40\n",
      "32th-iteration: get-links completed at: 1:40 / loading content: |||||||||| / get-news completed at: 1:40\n",
      "33th-iteration: get-links completed at: 1:40 / loading content: |||||||||| / get-news completed at: 1:40\n",
      "34th-iteration: get-links completed at: 1:40 / loading content: |||||||||| / get-news completed at: 1:40\n",
      "35th-iteration: get-links completed at: 1:40 / loading content: |||||||||| / get-news completed at: 1:40\n",
      "36th-iteration: get-links completed at: 1:40 / loading content: |||||||||| / get-news completed at: 1:41\n",
      "37th-iteration: get-links completed at: 1:41 / loading content: |||||||||| / get-news completed at: 1:41\n",
      "38th-iteration: get-links completed at: 1:41 / loading content: |||||"
     ]
    }
   ],
   "source": [
    "news_g1 = news_catcher_g1.full_extraction()\n",
    "news_export(file_name='G1', data_set=news_g1)"
   ]
  },
  {
   "cell_type": "code",
   "execution_count": null,
   "metadata": {},
   "outputs": [],
   "source": []
  }
 ],
 "metadata": {
  "kernelspec": {
   "display_name": "Python 3",
   "language": "python",
   "name": "python3"
  },
  "language_info": {
   "codemirror_mode": {
    "name": "ipython",
    "version": 3
   },
   "file_extension": ".py",
   "mimetype": "text/x-python",
   "name": "python",
   "nbconvert_exporter": "python",
   "pygments_lexer": "ipython3",
   "version": "3.7.3"
  }
 },
 "nbformat": 4,
 "nbformat_minor": 2
}
