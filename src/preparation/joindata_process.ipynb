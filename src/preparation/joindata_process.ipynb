{
 "cells": [
  {
   "cell_type": "code",
   "execution_count": 17,
   "metadata": {},
   "outputs": [],
   "source": [
    "from datetime import datetime as dt\n",
    "import pandas as pd\n"
   ]
  },
  {
   "cell_type": "code",
   "execution_count": null,
   "metadata": {},
   "outputs": [],
   "source": [
    "def untag_sentence(x):\n",
    "    '''\n",
    "    remove tag symbolos, like: \\t, \\n from a sentence as x\n",
    "    (other patherns not included: \\\\xa0, \\\\n3, \\\\n2)\n",
    "    x: string\n",
    "    '''\n",
    "    untag_words = []\n",
    "    _ = x.split('\\n')\n",
    "    for sentence in _:\n",
    "        __ = sentence.split('\\t')\n",
    "        untag_words += __[:]\n",
    "        while '' in untag_words:\n",
    "            untag_words.remove('')\n",
    "    untag_words = ' '.join(untag_words)\n",
    "    return untag_words\n"
   ]
  },
  {
   "cell_type": "markdown",
   "metadata": {},
   "source": [
    "join ADVFN news datasets"
   ]
  },
  {
   "cell_type": "code",
   "execution_count": null,
   "metadata": {},
   "outputs": [],
   "source": [
    "path_1 = '../../data/raw/advfn_1_news_2019-06-02 21:54:46.162766.csv'\n",
    "path_2 = '../../data/raw/advfn_2_news_2019-06-02 21:55:09.023780.csv'\n",
    "path_3 = '../../data/raw/advfn_3_news_2019-06-02 21:52:09.049460.csv'\n"
   ]
  },
  {
   "cell_type": "code",
   "execution_count": null,
   "metadata": {},
   "outputs": [],
   "source": [
    "cols = ['author_site', 'content', 'date_time', 'n_coments', 'title', 'type']\n",
    "\n",
    "df_1 = pd.read_csv(path_1, usecols=cols, parse_dates=['date_time'])\n",
    "df_2 = pd.read_csv(path_2, usecols=cols, parse_dates=['date_time'])\n",
    "df_3 = pd.read_csv(path_3, usecols=cols, parse_dates=['date_time'])\n",
    "\n",
    "print(df_1.shape)\n",
    "print(df_2.shape)\n",
    "print(df_3.shape)\n"
   ]
  },
  {
   "cell_type": "code",
   "execution_count": null,
   "metadata": {},
   "outputs": [],
   "source": [
    "df_advfn = pd.concat([df_1, df_2, df_3])\n",
    "df_advfn.reset_index(drop=True, inplace=True)\n",
    "df_advfn.shape\n"
   ]
  },
  {
   "cell_type": "code",
   "execution_count": null,
   "metadata": {},
   "outputs": [],
   "source": [
    "df_advfn.head(3)"
   ]
  },
  {
   "cell_type": "code",
   "execution_count": null,
   "metadata": {},
   "outputs": [],
   "source": [
    "df_advfn['author_site'] = df_advfn.author_site.apply(lambda x: untag_sentence(x))\n"
   ]
  },
  {
   "cell_type": "code",
   "execution_count": null,
   "metadata": {},
   "outputs": [],
   "source": [
    "df_advfn['site'] = 'advfn_economia'"
   ]
  },
  {
   "cell_type": "code",
   "execution_count": null,
   "metadata": {},
   "outputs": [],
   "source": [
    "df_advfn.to_csv(f'../../data/raw/advfn_news_full_{dt.now()}.csv')"
   ]
  },
  {
   "cell_type": "markdown",
   "metadata": {},
   "source": [
    "join Valor Economico news datasets"
   ]
  },
  {
   "cell_type": "code",
   "execution_count": 2,
   "metadata": {},
   "outputs": [],
   "source": [
    "path_v1 = '../../data/raw/valor_1_news_2019-05-21 09:57:28.516548.csv'\n",
    "path_v2 = '../../data/raw/valor_2_news_2019-05-21 23:46:44.026076.csv'\n",
    "path_v3 = '../../data/raw/valor_3_news_2019-05-21 23:46:19.569220.csv'\n",
    "path_v4 = '../../data/raw/valor_4_news_2019-05-21 23:46:01.465295.csv'\n",
    "path_v5 = '../../data/raw/valor_5_news_2019-05-21 23:45:25.829313.csv'"
   ]
  },
  {
   "cell_type": "code",
   "execution_count": 3,
   "metadata": {},
   "outputs": [
    {
     "name": "stdout",
     "output_type": "stream",
     "text": [
      "(7434, 4)\n",
      "(7418, 4)\n",
      "(7437, 4)\n",
      "(7395, 4)\n",
      "(7131, 4)\n"
     ]
    }
   ],
   "source": [
    "cols_v = ['author_site', 'content', 'date_time', 'title']\n",
    "\n",
    "df_v1 = pd.read_csv(path_v1, usecols=cols_v) ; print(df_v1.shape) ;\n",
    "df_v2 = pd.read_csv(path_v2, usecols=cols_v) ; print(df_v2.shape) ;\n",
    "df_v3 = pd.read_csv(path_v3, usecols=cols_v) ; print(df_v3.shape) ;\n",
    "df_v4 = pd.read_csv(path_v4, usecols=cols_v) ; print(df_v4.shape) ;\n",
    "df_v5 = pd.read_csv(path_v5, usecols=cols_v) ; print(df_v5.shape) ;\n"
   ]
  },
  {
   "cell_type": "code",
   "execution_count": 4,
   "metadata": {},
   "outputs": [
    {
     "name": "stdout",
     "output_type": "stream",
     "text": [
      "(36815, 4)\n"
     ]
    }
   ],
   "source": [
    "df_valor = pd.concat([df_v1, df_v2, df_v3, df_v4, df_v5])\n",
    "df_valor.reset_index(drop=True, inplace=True)\n",
    "print(df_valor.shape)\n",
    "\n",
    "df_valor['site'] = 'valor_economico'\n"
   ]
  },
  {
   "cell_type": "code",
   "execution_count": 5,
   "metadata": {},
   "outputs": [],
   "source": [
    "df_valor['content'] = df_valor.content.apply(lambda x: x.replace('\\n', '').replace('\\xa0', ''))"
   ]
  },
  {
   "cell_type": "code",
   "execution_count": 13,
   "metadata": {},
   "outputs": [
    {
     "data": {
      "text/html": [
       "<div>\n",
       "<style scoped>\n",
       "    .dataframe tbody tr th:only-of-type {\n",
       "        vertical-align: middle;\n",
       "    }\n",
       "\n",
       "    .dataframe tbody tr th {\n",
       "        vertical-align: top;\n",
       "    }\n",
       "\n",
       "    .dataframe thead th {\n",
       "        text-align: right;\n",
       "    }\n",
       "</style>\n",
       "<table border=\"1\" class=\"dataframe\">\n",
       "  <thead>\n",
       "    <tr style=\"text-align: right;\">\n",
       "      <th></th>\n",
       "      <th>author_site</th>\n",
       "      <th>content</th>\n",
       "      <th>date_time</th>\n",
       "      <th>title</th>\n",
       "      <th>site</th>\n",
       "    </tr>\n",
       "  </thead>\n",
       "  <tbody>\n",
       "    <tr>\n",
       "      <th>0</th>\n",
       "      <td>Por Ana Paula Ragazzi | Valor</td>\n",
       "      <td>SÃO PAULO - O crescimento do interesse dos inv...</td>\n",
       "      <td>20/05/2019 às 21h26</td>\n",
       "      <td>Maior demanda por título de dívida ajuda a red...</td>\n",
       "      <td>valor_economico</td>\n",
       "    </tr>\n",
       "    <tr>\n",
       "      <th>1</th>\n",
       "      <td>Por Joice Bacelo</td>\n",
       "      <td>BRASÍLIA - A ministra Cármen Lúcia, do Supremo...</td>\n",
       "      <td>20/05/2019 às 19h18</td>\n",
       "      <td>Ministério Público poderá apresentar parecer s...</td>\n",
       "      <td>valor_economico</td>\n",
       "    </tr>\n",
       "    <tr>\n",
       "      <th>2</th>\n",
       "      <td>Por Sergio Lamucci | Valor</td>\n",
       "      <td>SÃO PAULO - O Brasil tem perdido terreno em re...</td>\n",
       "      <td>20/05/2019 às 19h09</td>\n",
       "      <td>Brasil perde corrida do PIB per capita para ou...</td>\n",
       "      <td>valor_economico</td>\n",
       "    </tr>\n",
       "  </tbody>\n",
       "</table>\n",
       "</div>"
      ],
      "text/plain": [
       "                     author_site  \\\n",
       "0  Por Ana Paula Ragazzi | Valor   \n",
       "1               Por Joice Bacelo   \n",
       "2     Por Sergio Lamucci | Valor   \n",
       "\n",
       "                                             content            date_time  \\\n",
       "0  SÃO PAULO - O crescimento do interesse dos inv...  20/05/2019 às 21h26   \n",
       "1  BRASÍLIA - A ministra Cármen Lúcia, do Supremo...  20/05/2019 às 19h18   \n",
       "2  SÃO PAULO - O Brasil tem perdido terreno em re...  20/05/2019 às 19h09   \n",
       "\n",
       "                                               title             site  \n",
       "0  Maior demanda por título de dívida ajuda a red...  valor_economico  \n",
       "1  Ministério Público poderá apresentar parecer s...  valor_economico  \n",
       "2  Brasil perde corrida do PIB per capita para ou...  valor_economico  "
      ]
     },
     "execution_count": 13,
     "metadata": {},
     "output_type": "execute_result"
    }
   ],
   "source": [
    "df_valor.head(3)"
   ]
  },
  {
   "cell_type": "code",
   "execution_count": 18,
   "metadata": {},
   "outputs": [],
   "source": [
    "df_valor.to_csv(f'../../data/raw/valor_news_full_{dt.now()}.csv')"
   ]
  },
  {
   "cell_type": "code",
   "execution_count": 6,
   "metadata": {},
   "outputs": [],
   "source": [
    "import pandas as pd\n",
    "df = pd.read_csv('../../data/raw/advfn_news_full_2019-06-06 20:07:21.249824.csv')"
   ]
  },
  {
   "cell_type": "code",
   "execution_count": 7,
   "metadata": {},
   "outputs": [
    {
     "data": {
      "text/plain": [
       "(1725, 8)"
      ]
     },
     "execution_count": 7,
     "metadata": {},
     "output_type": "execute_result"
    }
   ],
   "source": [
    "df.shape"
   ]
  },
  {
   "cell_type": "code",
   "execution_count": null,
   "metadata": {},
   "outputs": [],
   "source": []
  }
 ],
 "metadata": {
  "kernelspec": {
   "display_name": "Python 3",
   "language": "python",
   "name": "python3"
  },
  "language_info": {
   "codemirror_mode": {
    "name": "ipython",
    "version": 3
   },
   "file_extension": ".py",
   "mimetype": "text/x-python",
   "name": "python",
   "nbconvert_exporter": "python",
   "pygments_lexer": "ipython3",
   "version": "3.7.3"
  }
 },
 "nbformat": 4,
 "nbformat_minor": 2
}
