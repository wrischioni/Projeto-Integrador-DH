{
 "cells": [
  {
   "cell_type": "code",
   "execution_count": 529,
   "metadata": {},
   "outputs": [],
   "source": [
    "import numpy as np\n",
    "import pandas as pd\n",
    "import datetime\n",
    "import time"
   ]
  },
  {
   "cell_type": "code",
   "execution_count": 530,
   "metadata": {},
   "outputs": [],
   "source": [
    "cols2keep = ['date','close','open','max','min','volume']"
   ]
  },
  {
   "cell_type": "code",
   "execution_count": 531,
   "metadata": {},
   "outputs": [],
   "source": [
    "mk_data_sanb11 = pd.read_csv('../../data/raw/market_data_sanb11_raw.csv',usecols=cols2keep)"
   ]
  },
  {
   "cell_type": "code",
   "execution_count": 532,
   "metadata": {},
   "outputs": [],
   "source": [
    "mk_data_itub4 = pd.read_csv('../../data/raw/market_data_itub4_raw.csv',usecols=cols2keep)"
   ]
  },
  {
   "cell_type": "code",
   "execution_count": 533,
   "metadata": {},
   "outputs": [],
   "source": [
    "mk_data_bbdc3 = pd.read_csv('../../data/raw/market_data_bbdc3_raw.csv',usecols=cols2keep)"
   ]
  },
  {
   "cell_type": "code",
   "execution_count": 534,
   "metadata": {},
   "outputs": [],
   "source": [
    "mk_data_bvsp = pd.read_csv('../../data/raw/market_data_bvsp_raw.csv',usecols=cols2keep)"
   ]
  },
  {
   "cell_type": "code",
   "execution_count": 535,
   "metadata": {},
   "outputs": [],
   "source": [
    "mk_data_sanb11['date'] = mk_data_sanb11.date.apply(lambda x: datetime.datetime.strptime(x, \"%d/%m/%Y\"))"
   ]
  },
  {
   "cell_type": "code",
   "execution_count": 536,
   "metadata": {},
   "outputs": [],
   "source": [
    "mk_data_itub4['date'] = mk_data_itub4.date.apply(lambda x: datetime.datetime.strptime(x, \"%d/%m/%Y\"))"
   ]
  },
  {
   "cell_type": "code",
   "execution_count": 537,
   "metadata": {},
   "outputs": [],
   "source": [
    "mk_data_bbdc3['date'] = mk_data_bbdc3.date.apply(lambda x: datetime.datetime.strptime(x, \"%d/%m/%Y\"))"
   ]
  },
  {
   "cell_type": "code",
   "execution_count": 538,
   "metadata": {},
   "outputs": [],
   "source": [
    "mk_data_bvsp['date'] = mk_data_bvsp.date.apply(lambda x: datetime.datetime.strptime(x, \"%d/%m/%Y\"))"
   ]
  },
  {
   "cell_type": "code",
   "execution_count": 539,
   "metadata": {},
   "outputs": [],
   "source": [
    "mk_data_sanb11.sort_values(by='date',ascending=False,inplace=True)\n",
    "mk_data_itub4.sort_values(by='date',ascending=False,inplace=True)\n",
    "mk_data_bbdc3.sort_values(by='date',ascending=False,inplace=True)\n",
    "mk_data_bvsp.sort_values(by='date',ascending=False,inplace=True)"
   ]
  },
  {
   "cell_type": "code",
   "execution_count": 540,
   "metadata": {},
   "outputs": [],
   "source": [
    "def mk_returnsPrev(df, open_close, window):\n",
    "    ls = []\n",
    "    ls_nan = []\n",
    "    for i,item in enumerate(df[open_close]):\n",
    "        last = len(df[open_close]) - window\n",
    "        if i == last:\n",
    "            break\n",
    "        div = df[open_close][i+window]\n",
    "        ret = (item - div) / div\n",
    "        ls.append(ret)\n",
    "        diff = len(df[open_close]) - len(ls)\n",
    "    for j in range(0,diff):\n",
    "        ls_nan.append(np.nan)\n",
    "    return ls + ls_nan\n",
    "    "
   ]
  },
  {
   "cell_type": "code",
   "execution_count": 541,
   "metadata": {},
   "outputs": [],
   "source": [
    "def mk_returnsNext(df, open_close, window):\n",
    "    ls = []\n",
    "    ls_nan = []\n",
    "    for i, item in enumerate(df[open_close]):\n",
    "        if i in range(0,window):\n",
    "            continue\n",
    "        den = df[open_close][i-window]\n",
    "        ret = (den - item) / item\n",
    "        ls.append(ret)\n",
    "        diff = len(df[open_close]) - len(ls)\n",
    "    for j in range(0,diff):\n",
    "        ls_nan.append(np.nan)\n",
    "    return ls_nan + ls\n"
   ]
  },
  {
   "cell_type": "code",
   "execution_count": 542,
   "metadata": {},
   "outputs": [],
   "source": [
    "for i in range(1,11):\n",
    "    mk_data_sanb11['ReturnsClosePrevRaw' + str(i)]  = mk_returnsPrev(df=mk_data_sanb11,open_close='close',window=i)\n",
    "    mk_data_sanb11['ReturnsOpenPrevRaw'  + str(i)]  = mk_returnsPrev(df=mk_data_sanb11,open_close='open',window=i)\n",
    "    mk_data_sanb11['ReturnsCloseNextRaw' + str(i)]  = mk_returnsNext(df=mk_data_sanb11,open_close='close',window=i)\n",
    "    mk_data_sanb11['ReturnsOpenNextRaw'  + str(i)]  = mk_returnsNext(df=mk_data_sanb11,open_close='open',window=i)\n",
    "    "
   ]
  },
  {
   "cell_type": "code",
   "execution_count": 548,
   "metadata": {},
   "outputs": [],
   "source": [
    "for i in range(1,11):\n",
    "    mk_data_itub4['ReturnsClosePrevRaw' + str(i)]  = mk_returnsPrev(df=mk_data_itub4,open_close='close',window=i)\n",
    "    mk_data_itub4['ReturnsOpenPrevRaw'  + str(i)]  = mk_returnsPrev(df=mk_data_itub4,open_close='open',window=i)\n",
    "    mk_data_itub4['ReturnsCloseNextRaw' + str(i)]  = mk_returnsNext(df=mk_data_itub4,open_close='close',window=i)\n",
    "    mk_data_itub4['ReturnsOpenNextRaw'  + str(i)]  = mk_returnsNext(df=mk_data_itub4,open_close='open',window=i)"
   ]
  },
  {
   "cell_type": "code",
   "execution_count": 549,
   "metadata": {},
   "outputs": [],
   "source": [
    "for i in range(1,11):\n",
    "    mk_data_bbdc3['ReturnsClosePrevRaw' + str(i)]  = mk_returnsPrev(df=mk_data_bbdc3,open_close='close',window=i)\n",
    "    mk_data_bbdc3['ReturnsOpenPrevRaw'  + str(i)]  = mk_returnsPrev(df=mk_data_bbdc3,open_close='open',window=i)\n",
    "    mk_data_bbdc3['ReturnsCloseNextRaw' + str(i)]  = mk_returnsNext(df=mk_data_bbdc3,open_close='close',window=i)\n",
    "    mk_data_bbdc3['ReturnsOpenNextRaw'  + str(i)]  = mk_returnsNext(df=mk_data_bbdc3,open_close='open',window=i)"
   ]
  },
  {
   "cell_type": "code",
   "execution_count": 550,
   "metadata": {},
   "outputs": [],
   "source": [
    "for i in range(1,11):\n",
    "    mk_data_bvsp['ReturnsClosePrevRaw' + str(i)]  = mk_returnsPrev(df=mk_data_bvsp,open_close='close',window=i)\n",
    "    mk_data_bvsp['ReturnsOpenPrevRaw'  + str(i)]  = mk_returnsPrev(df=mk_data_bvsp,open_close='open',window=i)\n",
    "    mk_data_bvsp['ReturnsCloseNextRaw' + str(i)]  = mk_returnsNext(df=mk_data_bvsp,open_close='close',window=i)\n",
    "    mk_data_bvsp['ReturnsOpenNextRaw'  + str(i)]  = mk_returnsNext(df=mk_data_bvsp,open_close='open',window=i)"
   ]
  },
  {
   "cell_type": "code",
   "execution_count": 551,
   "metadata": {},
   "outputs": [],
   "source": [
    "mk_data_sanb11.set_index('date',inplace=True)\n",
    "mk_data_itub4.set_index('date',inplace=True)\n",
    "mk_data_bbdc3.set_index('date',inplace=True)\n",
    "mk_data_bvsp.set_index('date',inplace=True)"
   ]
  },
  {
   "cell_type": "code",
   "execution_count": 552,
   "metadata": {},
   "outputs": [],
   "source": [
    "mk_data_sanb11 = mk_data_sanb11.add_prefix('sanb11_')\n",
    "mk_data_itub4 = mk_data_bvsp.add_prefix('itub4_')\n",
    "mk_data_bbdc3 = mk_data_bvsp.add_prefix('bbdc3_')\n",
    "mk_data_bvsp = mk_data_bvsp.add_prefix('bvsp_')"
   ]
  },
  {
   "cell_type": "code",
   "execution_count": 554,
   "metadata": {},
   "outputs": [],
   "source": [
    "mk_data_sanb11 = mk_data_sanb11.merge(mk_data_bvsp,how='left',left_index=True,right_index=True)"
   ]
  },
  {
   "cell_type": "code",
   "execution_count": 565,
   "metadata": {},
   "outputs": [],
   "source": [
    "for i in range(1,11):\n",
    "    mk_data_sanb11['sanb_11_ReturnsClosePrevMkt' + str(i)]  = mk_data_sanb11['sanb11_ReturnsClosePrevRaw' + str(i)] / mk_data_sanb11['bvsp_ReturnsClosePrevRaw' + str(i)]\n",
    "    mk_data_sanb11['sanb_11_ReturnsOpenPrevMkt'  + str(i)]  = mk_data_sanb11['sanb11_ReturnsOpenPrevRaw' + str(i)] / mk_data_sanb11['bvsp_ReturnsOpenPrevRaw' + str(i)]\n",
    "    mk_data_sanb11['sanb_11_ReturnsCloseNextMkt' + str(i)]  = mk_data_sanb11['sanb11_ReturnsCloseNextRaw' + str(i)] / mk_data_sanb11['bvsp_ReturnsCloseNextRaw' + str(i)]\n",
    "    mk_data_sanb11['sanb_11_ReturnsOpenNextMkt'  + str(i)]  = mk_data_sanb11['sanb11_ReturnsOpenNextRaw' + str(i)] / mk_data_sanb11['bvsp_ReturnsOpenNextRaw' + str(i)]\n",
    "    \n",
    "    \n",
    "    "
   ]
  },
  {
   "cell_type": "code",
   "execution_count": 567,
   "metadata": {},
   "outputs": [],
   "source": [
    "mk_data_sanb11 = mk_data_sanb11.merge(mk_data_itub4,how='left',left_index=True,right_index=True)"
   ]
  },
  {
   "cell_type": "code",
   "execution_count": 568,
   "metadata": {},
   "outputs": [],
   "source": [
    "mk_data_sanb11 = mk_data_sanb11.merge(mk_data_bbdc3,how='left',left_index=True,right_index=True)"
   ]
  },
  {
   "cell_type": "code",
   "execution_count": 569,
   "metadata": {},
   "outputs": [
    {
     "data": {
      "text/html": [
       "<div>\n",
       "<style scoped>\n",
       "    .dataframe tbody tr th:only-of-type {\n",
       "        vertical-align: middle;\n",
       "    }\n",
       "\n",
       "    .dataframe tbody tr th {\n",
       "        vertical-align: top;\n",
       "    }\n",
       "\n",
       "    .dataframe thead th {\n",
       "        text-align: right;\n",
       "    }\n",
       "</style>\n",
       "<table border=\"1\" class=\"dataframe\">\n",
       "  <thead>\n",
       "    <tr style=\"text-align: right;\">\n",
       "      <th></th>\n",
       "      <th>sanb11_close</th>\n",
       "      <th>sanb11_open</th>\n",
       "      <th>sanb11_max</th>\n",
       "      <th>sanb11_min</th>\n",
       "      <th>sanb11_volume</th>\n",
       "      <th>sanb11_ReturnsClosePrevRaw1</th>\n",
       "      <th>sanb11_ReturnsOpenPrevRaw1</th>\n",
       "      <th>sanb11_ReturnsCloseNextRaw1</th>\n",
       "      <th>sanb11_ReturnsOpenNextRaw1</th>\n",
       "      <th>sanb11_ReturnsClosePrevRaw2</th>\n",
       "      <th>...</th>\n",
       "      <th>bbdc3_ReturnsCloseNextRaw8</th>\n",
       "      <th>bbdc3_ReturnsOpenNextRaw8</th>\n",
       "      <th>bbdc3_ReturnsClosePrevRaw9</th>\n",
       "      <th>bbdc3_ReturnsOpenPrevRaw9</th>\n",
       "      <th>bbdc3_ReturnsCloseNextRaw9</th>\n",
       "      <th>bbdc3_ReturnsOpenNextRaw9</th>\n",
       "      <th>bbdc3_ReturnsClosePrevRaw10</th>\n",
       "      <th>bbdc3_ReturnsOpenPrevRaw10</th>\n",
       "      <th>bbdc3_ReturnsCloseNextRaw10</th>\n",
       "      <th>bbdc3_ReturnsOpenNextRaw10</th>\n",
       "    </tr>\n",
       "    <tr>\n",
       "      <th>date</th>\n",
       "      <th></th>\n",
       "      <th></th>\n",
       "      <th></th>\n",
       "      <th></th>\n",
       "      <th></th>\n",
       "      <th></th>\n",
       "      <th></th>\n",
       "      <th></th>\n",
       "      <th></th>\n",
       "      <th></th>\n",
       "      <th></th>\n",
       "      <th></th>\n",
       "      <th></th>\n",
       "      <th></th>\n",
       "      <th></th>\n",
       "      <th></th>\n",
       "      <th></th>\n",
       "      <th></th>\n",
       "      <th></th>\n",
       "      <th></th>\n",
       "      <th></th>\n",
       "    </tr>\n",
       "  </thead>\n",
       "  <tbody>\n",
       "    <tr>\n",
       "      <th>2019-06-13</th>\n",
       "      <td>43.52</td>\n",
       "      <td>44.41</td>\n",
       "      <td>44.41</td>\n",
       "      <td>43.45</td>\n",
       "      <td>1390000.0</td>\n",
       "      <td>-0.013376</td>\n",
       "      <td>0.006345</td>\n",
       "      <td>NaN</td>\n",
       "      <td>NaN</td>\n",
       "      <td>-0.014939</td>\n",
       "      <td>...</td>\n",
       "      <td>NaN</td>\n",
       "      <td>NaN</td>\n",
       "      <td>NaN</td>\n",
       "      <td>NaN</td>\n",
       "      <td>NaN</td>\n",
       "      <td>NaN</td>\n",
       "      <td>NaN</td>\n",
       "      <td>NaN</td>\n",
       "      <td>NaN</td>\n",
       "      <td>NaN</td>\n",
       "    </tr>\n",
       "    <tr>\n",
       "      <th>2019-06-12</th>\n",
       "      <td>44.11</td>\n",
       "      <td>44.13</td>\n",
       "      <td>45.17</td>\n",
       "      <td>43.80</td>\n",
       "      <td>1580000.0</td>\n",
       "      <td>-0.001584</td>\n",
       "      <td>-0.005857</td>\n",
       "      <td>-0.013376</td>\n",
       "      <td>0.006345</td>\n",
       "      <td>-0.002036</td>\n",
       "      <td>...</td>\n",
       "      <td>NaN</td>\n",
       "      <td>NaN</td>\n",
       "      <td>0.008860</td>\n",
       "      <td>0.024792</td>\n",
       "      <td>NaN</td>\n",
       "      <td>NaN</td>\n",
       "      <td>0.018167</td>\n",
       "      <td>0.026673</td>\n",
       "      <td>NaN</td>\n",
       "      <td>NaN</td>\n",
       "    </tr>\n",
       "    <tr>\n",
       "      <th>2019-06-11</th>\n",
       "      <td>44.18</td>\n",
       "      <td>44.39</td>\n",
       "      <td>44.73</td>\n",
       "      <td>44.10</td>\n",
       "      <td>1700000.0</td>\n",
       "      <td>-0.000452</td>\n",
       "      <td>-0.013117</td>\n",
       "      <td>-0.001584</td>\n",
       "      <td>-0.005857</td>\n",
       "      <td>-0.020399</td>\n",
       "      <td>...</td>\n",
       "      <td>NaN</td>\n",
       "      <td>NaN</td>\n",
       "      <td>0.024785</td>\n",
       "      <td>0.011184</td>\n",
       "      <td>NaN</td>\n",
       "      <td>NaN</td>\n",
       "      <td>0.026633</td>\n",
       "      <td>0.027446</td>\n",
       "      <td>NaN</td>\n",
       "      <td>NaN</td>\n",
       "    </tr>\n",
       "    <tr>\n",
       "      <th>2019-06-10</th>\n",
       "      <td>44.20</td>\n",
       "      <td>44.98</td>\n",
       "      <td>44.98</td>\n",
       "      <td>43.89</td>\n",
       "      <td>1870000.0</td>\n",
       "      <td>-0.019956</td>\n",
       "      <td>0.012379</td>\n",
       "      <td>-0.000452</td>\n",
       "      <td>-0.013117</td>\n",
       "      <td>-0.009413</td>\n",
       "      <td>...</td>\n",
       "      <td>NaN</td>\n",
       "      <td>NaN</td>\n",
       "      <td>0.011141</td>\n",
       "      <td>0.031251</td>\n",
       "      <td>NaN</td>\n",
       "      <td>NaN</td>\n",
       "      <td>0.027433</td>\n",
       "      <td>0.044880</td>\n",
       "      <td>NaN</td>\n",
       "      <td>NaN</td>\n",
       "    </tr>\n",
       "    <tr>\n",
       "      <th>2019-06-07</th>\n",
       "      <td>45.10</td>\n",
       "      <td>44.43</td>\n",
       "      <td>45.28</td>\n",
       "      <td>44.43</td>\n",
       "      <td>1150000.0</td>\n",
       "      <td>0.010758</td>\n",
       "      <td>-0.012667</td>\n",
       "      <td>-0.019956</td>\n",
       "      <td>0.012379</td>\n",
       "      <td>0.016911</td>\n",
       "      <td>...</td>\n",
       "      <td>NaN</td>\n",
       "      <td>NaN</td>\n",
       "      <td>0.031171</td>\n",
       "      <td>0.038228</td>\n",
       "      <td>NaN</td>\n",
       "      <td>NaN</td>\n",
       "      <td>0.044789</td>\n",
       "      <td>0.035063</td>\n",
       "      <td>NaN</td>\n",
       "      <td>NaN</td>\n",
       "    </tr>\n",
       "  </tbody>\n",
       "</table>\n",
       "<p>5 rows × 220 columns</p>\n",
       "</div>"
      ],
      "text/plain": [
       "            sanb11_close  sanb11_open  sanb11_max  sanb11_min  sanb11_volume  \\\n",
       "date                                                                           \n",
       "2019-06-13         43.52        44.41       44.41       43.45      1390000.0   \n",
       "2019-06-12         44.11        44.13       45.17       43.80      1580000.0   \n",
       "2019-06-11         44.18        44.39       44.73       44.10      1700000.0   \n",
       "2019-06-10         44.20        44.98       44.98       43.89      1870000.0   \n",
       "2019-06-07         45.10        44.43       45.28       44.43      1150000.0   \n",
       "\n",
       "            sanb11_ReturnsClosePrevRaw1  sanb11_ReturnsOpenPrevRaw1  \\\n",
       "date                                                                  \n",
       "2019-06-13                    -0.013376                    0.006345   \n",
       "2019-06-12                    -0.001584                   -0.005857   \n",
       "2019-06-11                    -0.000452                   -0.013117   \n",
       "2019-06-10                    -0.019956                    0.012379   \n",
       "2019-06-07                     0.010758                   -0.012667   \n",
       "\n",
       "            sanb11_ReturnsCloseNextRaw1  sanb11_ReturnsOpenNextRaw1  \\\n",
       "date                                                                  \n",
       "2019-06-13                          NaN                         NaN   \n",
       "2019-06-12                    -0.013376                    0.006345   \n",
       "2019-06-11                    -0.001584                   -0.005857   \n",
       "2019-06-10                    -0.000452                   -0.013117   \n",
       "2019-06-07                    -0.019956                    0.012379   \n",
       "\n",
       "            sanb11_ReturnsClosePrevRaw2  ...  bbdc3_ReturnsCloseNextRaw8  \\\n",
       "date                                     ...                               \n",
       "2019-06-13                    -0.014939  ...                         NaN   \n",
       "2019-06-12                    -0.002036  ...                         NaN   \n",
       "2019-06-11                    -0.020399  ...                         NaN   \n",
       "2019-06-10                    -0.009413  ...                         NaN   \n",
       "2019-06-07                     0.016911  ...                         NaN   \n",
       "\n",
       "            bbdc3_ReturnsOpenNextRaw8  bbdc3_ReturnsClosePrevRaw9  \\\n",
       "date                                                                \n",
       "2019-06-13                        NaN                         NaN   \n",
       "2019-06-12                        NaN                    0.008860   \n",
       "2019-06-11                        NaN                    0.024785   \n",
       "2019-06-10                        NaN                    0.011141   \n",
       "2019-06-07                        NaN                    0.031171   \n",
       "\n",
       "            bbdc3_ReturnsOpenPrevRaw9  bbdc3_ReturnsCloseNextRaw9  \\\n",
       "date                                                                \n",
       "2019-06-13                        NaN                         NaN   \n",
       "2019-06-12                   0.024792                         NaN   \n",
       "2019-06-11                   0.011184                         NaN   \n",
       "2019-06-10                   0.031251                         NaN   \n",
       "2019-06-07                   0.038228                         NaN   \n",
       "\n",
       "            bbdc3_ReturnsOpenNextRaw9  bbdc3_ReturnsClosePrevRaw10  \\\n",
       "date                                                                 \n",
       "2019-06-13                        NaN                          NaN   \n",
       "2019-06-12                        NaN                     0.018167   \n",
       "2019-06-11                        NaN                     0.026633   \n",
       "2019-06-10                        NaN                     0.027433   \n",
       "2019-06-07                        NaN                     0.044789   \n",
       "\n",
       "            bbdc3_ReturnsOpenPrevRaw10  bbdc3_ReturnsCloseNextRaw10  \\\n",
       "date                                                                  \n",
       "2019-06-13                         NaN                          NaN   \n",
       "2019-06-12                    0.026673                          NaN   \n",
       "2019-06-11                    0.027446                          NaN   \n",
       "2019-06-10                    0.044880                          NaN   \n",
       "2019-06-07                    0.035063                          NaN   \n",
       "\n",
       "            bbdc3_ReturnsOpenNextRaw10  \n",
       "date                                    \n",
       "2019-06-13                         NaN  \n",
       "2019-06-12                         NaN  \n",
       "2019-06-11                         NaN  \n",
       "2019-06-10                         NaN  \n",
       "2019-06-07                         NaN  \n",
       "\n",
       "[5 rows x 220 columns]"
      ]
     },
     "execution_count": 569,
     "metadata": {},
     "output_type": "execute_result"
    }
   ],
   "source": [
    "mk_data_sanb11.head()"
   ]
  },
  {
   "cell_type": "code",
   "execution_count": 570,
   "metadata": {},
   "outputs": [
    {
     "data": {
      "text/plain": [
       "(2391, 220)"
      ]
     },
     "execution_count": 570,
     "metadata": {},
     "output_type": "execute_result"
    }
   ],
   "source": [
    "mk_data_sanb11.shape"
   ]
  },
  {
   "cell_type": "code",
   "execution_count": 581,
   "metadata": {},
   "outputs": [],
   "source": [
    "mk_data_sanb11.to_csv('../../data/processed/mkt_data.csv')"
   ]
  }
 ],
 "metadata": {
  "kernelspec": {
   "display_name": "Python 3",
   "language": "python",
   "name": "python3"
  },
  "language_info": {
   "codemirror_mode": {
    "name": "ipython",
    "version": 3
   },
   "file_extension": ".py",
   "mimetype": "text/x-python",
   "name": "python",
   "nbconvert_exporter": "python",
   "pygments_lexer": "ipython3",
   "version": "3.7.3"
  }
 },
 "nbformat": 4,
 "nbformat_minor": 2
}
